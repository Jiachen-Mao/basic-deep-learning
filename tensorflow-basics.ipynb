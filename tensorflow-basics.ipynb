{
 "cells": [
  {
   "cell_type": "markdown",
   "metadata": {},
   "source": [
    "# TensorFlow Basics"
   ]
  },
  {
   "cell_type": "code",
   "execution_count": 1,
   "metadata": {},
   "outputs": [],
   "source": [
    "import tensorflow as tf\n",
    "from numpy.random import RandomState"
   ]
  },
  {
   "cell_type": "markdown",
   "metadata": {},
   "source": [
    "## Graph"
   ]
  },
  {
   "cell_type": "code",
   "execution_count": 2,
   "metadata": {},
   "outputs": [
    {
     "name": "stdout",
     "output_type": "stream",
     "text": [
      "False\n"
     ]
    }
   ],
   "source": [
    "a = tf.constant([1.0, 2.0], name = 'a')\n",
    "b = tf.constant([2.0, 3.0], name = 'b')\n",
    "result = a + b\n",
    "\n",
    "print(a.graph is tf.get_default_graph)"
   ]
  },
  {
   "cell_type": "code",
   "execution_count": 3,
   "metadata": {},
   "outputs": [
    {
     "name": "stdout",
     "output_type": "stream",
     "text": [
      "WARNING:tensorflow:From C:\\Users\\maoja\\Anaconda3\\lib\\site-packages\\tensorflow\\python\\framework\\op_def_library.py:263: colocate_with (from tensorflow.python.framework.ops) is deprecated and will be removed in a future version.\n",
      "Instructions for updating:\n",
      "Colocations handled automatically by placer.\n",
      "[0.]\n",
      "[1.]\n"
     ]
    }
   ],
   "source": [
    "# Define v in Graph g1 with initialization 0\n",
    "g1 = tf.Graph()\n",
    "with g1.as_default():\n",
    "    v = tf.get_variable('v', initializer = tf.zeros_initializer()(shape = [1]))\n",
    "\n",
    "# Define v in Graph g2 with initialization 1\n",
    "g2 = tf.Graph()\n",
    "with g2.as_default():\n",
    "    v = tf.get_variable('v', initializer = tf.ones_initializer()(shape = [1]))\n",
    "\n",
    "# Read v from Graph g1\n",
    "with tf.Session(graph = g1) as sess:\n",
    "    tf.global_variables_initializer().run()\n",
    "    with tf.variable_scope('', reuse = True):\n",
    "        print(sess.run(tf.get_variable('v')))\n",
    "\n",
    "# Read v from Graph g2\n",
    "with tf.Session(graph = g2) as sess:\n",
    "    tf.global_variables_initializer().run()\n",
    "    with tf.variable_scope('', reuse = True):\n",
    "        print(sess.run(tf.get_variable('v')))\n",
    "\n",
    "# Assign device for computation\n",
    "g = tf.Graph()\n",
    "with g.device('/gpu:0'):\n",
    "    result = a + b\n",
    "\n",
    "## The graph function in TensorFlow can isolate the tensor and computation"
   ]
  },
  {
   "cell_type": "markdown",
   "metadata": {},
   "source": [
    "## Tensor"
   ]
  },
  {
   "cell_type": "code",
   "execution_count": 4,
   "metadata": {},
   "outputs": [
    {
     "name": "stdout",
     "output_type": "stream",
     "text": [
      "Tensor(\"add_2:0\", shape=(2,), dtype=float32)\n"
     ]
    }
   ],
   "source": [
    "## The tensor in TensorFlow is not implemented via matrix, but it is a ref to the result.\n",
    "## We don't store numbers in tensor but the computation process to obtain the numbers.\n",
    "a = tf.constant([1.0, 2.0], name = 'a')\n",
    "b = tf.constant([2.0, 3.0], name = 'b')\n",
    "result = tf.add(a, b, name = 'add')\n",
    "\n",
    "print(result)"
   ]
  },
  {
   "cell_type": "markdown",
   "metadata": {},
   "source": [
    "## Session"
   ]
  },
  {
   "cell_type": "code",
   "execution_count": 5,
   "metadata": {},
   "outputs": [
    {
     "name": "stdout",
     "output_type": "stream",
     "text": [
      "<bound method Tensor.eval of <tf.Tensor 'add_2:0' shape=(2,) dtype=float32>>\n",
      "[3. 5.]\n",
      "[3. 5.]\n",
      "[3. 5.]\n"
     ]
    }
   ],
   "source": [
    "## The session is used to implement the computations that are defined before.\n",
    "#with tf.Session() as sess:\n",
    "#    sess.run()\n",
    "\n",
    "sess = tf.Session()\n",
    "with sess.as_default():\n",
    "    print(result.eval)\n",
    "    \n",
    "print(sess.run(result))\n",
    "print(result.eval(session = sess))\n",
    "sess.close()\n",
    "\n",
    "sess = tf.InteractiveSession()\n",
    "print(result.eval())\n",
    "sess.close()"
   ]
  },
  {
   "cell_type": "markdown",
   "metadata": {},
   "source": [
    "## Neural Network Implementation"
   ]
  },
  {
   "cell_type": "code",
   "execution_count": 6,
   "metadata": {},
   "outputs": [
    {
     "name": "stdout",
     "output_type": "stream",
     "text": [
      "[[3.957578]]\n"
     ]
    }
   ],
   "source": [
    "## tf.Variable is used to store and update the parameters in the neural network.\n",
    "\n",
    "w1 = tf.Variable(tf.random_normal((2, 3), stddev = 1, seed = 1))\n",
    "w2 = tf.Variable(tf.random_normal((3, 1), stddev = 1, seed = 1))\n",
    "\n",
    "x = tf.constant([[0.7, 0.9]])\n",
    "\n",
    "# Forward pass\n",
    "a = tf.matmul(x, w1)\n",
    "y = tf.matmul(a, w2)\n",
    "\n",
    "sess = tf.Session()\n",
    "\n",
    "# Initialize variables\n",
    "init_op = tf.global_variables_initializer()\n",
    "sess.run(init_op)\n",
    "\n",
    "print(sess.run(y))\n",
    "sess.close()"
   ]
  },
  {
   "cell_type": "code",
   "execution_count": 7,
   "metadata": {},
   "outputs": [
    {
     "name": "stdout",
     "output_type": "stream",
     "text": [
      "[[3.957578]]\n",
      "[[3.957578 ]\n",
      " [1.1537654]\n",
      " [3.1674924]]\n"
     ]
    }
   ],
   "source": [
    "## tf.placeholder is used to provide input data\n",
    "\n",
    "w1 = tf.Variable(tf.random_normal((2, 3), stddev = 1, seed = 1))\n",
    "w2 = tf.Variable(tf.random_normal((3, 1), stddev = 1, seed = 1))\n",
    "\n",
    "x = tf.placeholder(tf.float32, shape = (1, 2), name = 'input')\n",
    "z = tf.placeholder(tf.float32, shape = (3, 2), name = 'input')\n",
    "\n",
    "a = tf.matmul(x, w1)\n",
    "y = tf.matmul(a, w2)\n",
    "\n",
    "b = tf.matmul(z, w1)\n",
    "u = tf.matmul(b, w2)\n",
    "\n",
    "sess = tf.Session()\n",
    "init_go = tf.global_variables_initializer()\n",
    "sess.run(init_go)\n",
    "\n",
    "print(sess.run(y, feed_dict = {x: [[0.7, 0.9]]}))\n",
    "\n",
    "print(sess.run(u, feed_dict = {z: [[0.7, 0.9], [0.1, 0.4], [0.5, 0.8]]}))"
   ]
  },
  {
   "cell_type": "markdown",
   "metadata": {},
   "source": [
    "## A neural network case"
   ]
  },
  {
   "cell_type": "code",
   "execution_count": 8,
   "metadata": {},
   "outputs": [
    {
     "name": "stdout",
     "output_type": "stream",
     "text": [
      "w1 before training:\n",
      "[[ 0.04514983  0.75495046  0.15823501]\n",
      " [ 1.270371   -0.26027292  1.6226314 ]]\n",
      "w2 before training:\n",
      "[[ 1.4216583 ]\n",
      " [-0.02765524]\n",
      " [ 0.16226768]]\n",
      "\n",
      "After 0 training_steps, cross entropy is 1.06374\n",
      "After 500 training_steps, cross entropy is 0.684012\n",
      "After 1000 training_steps, cross entropy is 0.640312\n",
      "After 1500 training_steps, cross entropy is 0.637011\n",
      "After 2000 training_steps, cross entropy is 0.635366\n",
      "After 2500 training_steps, cross entropy is 0.634459\n",
      "After 3000 training_steps, cross entropy is 0.633978\n",
      "After 3500 training_steps, cross entropy is 0.63373\n",
      "After 4000 training_steps, cross entropy is 0.633607\n",
      "After 4500 training_steps, cross entropy is 0.633548\n",
      "\n",
      "w1 after training:\n",
      "[[-0.12709132  1.1342261   0.04811944]\n",
      " [ 0.71344537  0.6895646   2.1491053 ]]\n",
      "w2 after training:\n",
      "[[ 0.83590794]\n",
      " [-0.45473632]\n",
      " [-0.456318  ]]\n"
     ]
    }
   ],
   "source": [
    "# Define batch size\n",
    "batch_size = 8\n",
    "\n",
    "# Initialize weights\n",
    "w1 = tf.Variable(tf.random_normal([2, 3], stddev = 1))\n",
    "w2 = tf.Variable(tf.random_normal([3, 1], stddev = 1))\n",
    "\n",
    "# Using None is convenient to adopt different batch sizes\n",
    "x = tf.placeholder(tf.float32, shape = (None, 2), name = 'x-input')\n",
    "y_ = tf.placeholder(tf.float32, shape = (None, 1), name = 'y-input')\n",
    "\n",
    "# Forward pass\n",
    "a = tf.matmul(x, w1)\n",
    "y = tf.matmul(a, w2)\n",
    "\n",
    "# Loss function\n",
    "y = tf.sigmoid(y)\n",
    "cross_entropy = -tf.reduce_mean(y_ * tf.log(tf.clip_by_value(y, 1e-10, 1.0)) \n",
    "                                + (1 - y_) * tf.log(tf.clip_by_value(1-y, 1e-10, 1.0)))\n",
    "\n",
    "# Backward pass\n",
    "train_step = tf.train.AdamOptimizer(0.001).minimize(cross_entropy)\n",
    "\n",
    "\n",
    "# Generate a random dataset\n",
    "rdm = RandomState(1)\n",
    "dataset_size = 500\n",
    "X = rdm.rand(dataset_size, 2)\n",
    "Y = [[int(x1 + x2 < 1)] for (x1, x2) in X]\n",
    "\n",
    "\n",
    "# Create a session to implement TensorFlow\n",
    "with tf.Session() as sess:\n",
    "    init_go = tf.global_variables_initializer()\n",
    "    sess.run(init_go)\n",
    "    \n",
    "    # Parameters before the training\n",
    "    print('w1 before training:')\n",
    "    print(sess.run(w1))\n",
    "    print('w2 before training:')\n",
    "    print(sess.run(w2))\n",
    "    print()\n",
    "    \n",
    "    STEPS = 5000\n",
    "    \n",
    "    for i in range(STEPS):\n",
    "        # For every step, use sample of batch size for training\n",
    "        start = (i * batch_size) % dataset_size\n",
    "        end = min(start + batch_size, dataset_size)\n",
    "        \n",
    "        # Update the parameters using the batch samples\n",
    "        sess.run(train_step, feed_dict = {x: X[start:end], y_: Y[start:end]})\n",
    "        \n",
    "        if i % 500 == 0:\n",
    "            total_cross_entropy = sess.run(cross_entropy, feed_dict = {x: X, y_: Y})\n",
    "            print('After %d training_steps, cross entropy is %g'%(i, total_cross_entropy))\n",
    "    \n",
    "    print()\n",
    "    print('w1 after training:')\n",
    "    print(sess.run(w1))\n",
    "    print('w2 after training:')\n",
    "    print(sess.run(w2))"
   ]
  },
  {
   "cell_type": "code",
   "execution_count": null,
   "metadata": {},
   "outputs": [],
   "source": []
  }
 ],
 "metadata": {
  "kernelspec": {
   "display_name": "Python 3",
   "language": "python",
   "name": "python3"
  },
  "language_info": {
   "codemirror_mode": {
    "name": "ipython",
    "version": 3
   },
   "file_extension": ".py",
   "mimetype": "text/x-python",
   "name": "python",
   "nbconvert_exporter": "python",
   "pygments_lexer": "ipython3",
   "version": "3.7.3"
  }
 },
 "nbformat": 4,
 "nbformat_minor": 2
}
